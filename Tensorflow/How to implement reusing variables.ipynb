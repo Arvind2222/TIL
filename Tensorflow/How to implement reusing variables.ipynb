{
 "cells": [
  {
   "cell_type": "markdown",
   "metadata": {},
   "source": [
    "# How to implment reusing variables\n",
    "`tf.variable_scope`의 reuse argument를 이용하여, reusing variable (etc. parameter sharing)을 하는 방법을 정리"
   ]
  },
  {
   "cell_type": "markdown",
   "metadata": {},
   "source": [
    "### Setup"
   ]
  },
  {
   "cell_type": "code",
   "execution_count": 1,
   "metadata": {},
   "outputs": [],
   "source": [
    "import tensorflow as tf\n",
    "sess_config = tf.ConfigProto(gpu_options=tf.GPUOptions(allow_growth=True))"
   ]
  },
  {
   "cell_type": "markdown",
   "metadata": {},
   "source": [
    "### Template 1\n",
    "scope를 나누어서 쓸 때, reusing variables를 하는 경우"
   ]
  },
  {
   "cell_type": "code",
   "execution_count": 2,
   "metadata": {},
   "outputs": [],
   "source": [
    "with tf.variable_scope('test', reuse = False):\n",
    "    w1 = tf.get_variable(name = 'weight_1',\n",
    "                     shape = [2,], dtype = tf.float32,\n",
    "                     initializer = tf.ones_initializer())\n",
    "    w2 = tf.get_variable(name = 'weight_2', initializer = tf.constant([2.,2.], dtype = tf.float32))\n",
    "\n",
    "with tf.variable_scope('test', reuse = True):\n",
    "    w3 = tf.get_variable(name = 'weight_1')"
   ]
  },
  {
   "cell_type": "code",
   "execution_count": 3,
   "metadata": {},
   "outputs": [
    {
     "name": "stdout",
     "output_type": "stream",
     "text": [
      "w1 : [1. 1.]\n",
      "w2 : [2. 2.]\n",
      "w3 : [1. 1.]\n"
     ]
    }
   ],
   "source": [
    "with tf.Session(config = sess_config) as sess:\n",
    "    sess.run(tf.global_variables_initializer())\n",
    "    print('w1 : {}'.format(sess.run(w1)))\n",
    "    print('w2 : {}'.format(sess.run(w2)))\n",
    "    print('w3 : {}'.format(sess.run(w3)))"
   ]
  },
  {
   "cell_type": "code",
   "execution_count": 4,
   "metadata": {},
   "outputs": [
    {
     "data": {
      "text/plain": [
       "[<tf.Variable 'test/weight_1:0' shape=(2,) dtype=float32_ref>,\n",
       " <tf.Variable 'test/weight_2:0' shape=(2,) dtype=float32_ref>]"
      ]
     },
     "execution_count": 4,
     "metadata": {},
     "output_type": "execute_result"
    }
   ],
   "source": [
    "# weight_1을 reuse 했으므로, variable list에도 두 개가 나타남\n",
    "tf.global_variables()"
   ]
  },
  {
   "cell_type": "markdown",
   "metadata": {},
   "source": [
    "### Template 2\n",
    "하나의 scope에서 reusing variables를 하는 경우, `reuse_variables` method를 사용"
   ]
  },
  {
   "cell_type": "code",
   "execution_count": 5,
   "metadata": {},
   "outputs": [],
   "source": [
    "tf.reset_default_graph()"
   ]
  },
  {
   "cell_type": "code",
   "execution_count": 6,
   "metadata": {},
   "outputs": [],
   "source": [
    "with tf.variable_scope('test') as scope:\n",
    "    w1 = tf.get_variable(name = 'weight_1',\n",
    "                     shape = [2,], dtype = tf.float32,\n",
    "                     initializer = tf.ones_initializer())\n",
    "    w2 = tf.get_variable(name = 'weight_2', initializer = tf.constant([2.,2.], dtype = tf.float32))\n",
    "    scope.reuse_variables() \n",
    "    w3 = tf.get_variable(name = 'weight_1')"
   ]
  },
  {
   "cell_type": "code",
   "execution_count": 7,
   "metadata": {},
   "outputs": [
    {
     "name": "stdout",
     "output_type": "stream",
     "text": [
      "w1 : [1. 1.]\n",
      "w2 : [2. 2.]\n",
      "w3 : [1. 1.]\n"
     ]
    }
   ],
   "source": [
    "with tf.Session(config = sess_config) as sess:\n",
    "    sess.run(tf.global_variables_initializer())\n",
    "    print('w1 : {}'.format(sess.run(w1)))\n",
    "    print('w2 : {}'.format(sess.run(w2)))\n",
    "    print('w3 : {}'.format(sess.run(w3)))"
   ]
  },
  {
   "cell_type": "code",
   "execution_count": 8,
   "metadata": {},
   "outputs": [
    {
     "data": {
      "text/plain": [
       "[<tf.Variable 'test/weight_1:0' shape=(2,) dtype=float32_ref>,\n",
       " <tf.Variable 'test/weight_2:0' shape=(2,) dtype=float32_ref>]"
      ]
     },
     "execution_count": 8,
     "metadata": {},
     "output_type": "execute_result"
    }
   ],
   "source": [
    "# weight_1을 reuse 했으므로, variable list에도 두 개가 나타남\n",
    "tf.global_variables()"
   ]
  },
  {
   "cell_type": "markdown",
   "metadata": {},
   "source": [
    "### Template 3\n",
    "하나의 scope에서 reusing variables를 하는 경우, reuse argument에 `tf.AUTO_REUSE` 전달\n",
    "\n",
    "* `tf.AUTO_REUSE`를 활용하면, ***이미 해당하는 variable name이 있는 경우 그 variable의 값을 가져오고, 아닐 경우 새로운 variable을 생성함***\n",
    "* ***이 방식으로 활용하는 것을 추천!!***"
   ]
  },
  {
   "cell_type": "code",
   "execution_count": 9,
   "metadata": {},
   "outputs": [],
   "source": [
    "tf.reset_default_graph()"
   ]
  },
  {
   "cell_type": "code",
   "execution_count": 10,
   "metadata": {},
   "outputs": [],
   "source": [
    "with tf.variable_scope('test', reuse = tf.AUTO_REUSE):\n",
    "    w1 = tf.get_variable(name = 'weight_1',\n",
    "                     shape = [2,], dtype = tf.float32,\n",
    "                     initializer = tf.ones_initializer())\n",
    "    w2 = tf.get_variable(name = 'weight_2', initializer = tf.constant([2.,2.], dtype = tf.float32))\n",
    "    w3 = tf.get_variable(name = 'weight_1')"
   ]
  },
  {
   "cell_type": "code",
   "execution_count": 11,
   "metadata": {},
   "outputs": [
    {
     "name": "stdout",
     "output_type": "stream",
     "text": [
      "w1 : [1. 1.]\n",
      "w2 : [2. 2.]\n",
      "w3 : [1. 1.]\n"
     ]
    }
   ],
   "source": [
    "with tf.Session(config = sess_config) as sess:\n",
    "    sess.run(tf.global_variables_initializer())\n",
    "    print('w1 : {}'.format(sess.run(w1)))\n",
    "    print('w2 : {}'.format(sess.run(w2)))\n",
    "    print('w3 : {}'.format(sess.run(w3)))"
   ]
  },
  {
   "cell_type": "code",
   "execution_count": 12,
   "metadata": {},
   "outputs": [
    {
     "data": {
      "text/plain": [
       "[<tf.Variable 'test/weight_1:0' shape=(2,) dtype=float32_ref>,\n",
       " <tf.Variable 'test/weight_2:0' shape=(2,) dtype=float32_ref>]"
      ]
     },
     "execution_count": 12,
     "metadata": {},
     "output_type": "execute_result"
    }
   ],
   "source": [
    "# weight_1을 reuse 했으므로, variable list에도 두 개가 나타남\n",
    "tf.global_variables()"
   ]
  }
 ],
 "metadata": {
  "kernelspec": {
   "display_name": "Python 3",
   "language": "python",
   "name": "python3"
  },
  "language_info": {
   "codemirror_mode": {
    "name": "ipython",
    "version": 3
   },
   "file_extension": ".py",
   "mimetype": "text/x-python",
   "name": "python",
   "nbconvert_exporter": "python",
   "pygments_lexer": "ipython3",
   "version": "3.6.5"
  }
 },
 "nbformat": 4,
 "nbformat_minor": 2
}
